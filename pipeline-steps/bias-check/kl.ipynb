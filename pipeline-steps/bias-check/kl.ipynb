{
 "cells": [
  {
   "cell_type": "code",
   "execution_count": 6,
   "id": "6e8d9175",
   "metadata": {},
   "outputs": [],
   "source": [
    "import numpy as np\n",
    "from scipy import stats\n",
    "import matplotlib.pyplot as plt\n",
    "import pandas as pd"
   ]
  },
  {
   "cell_type": "code",
   "execution_count": 7,
   "id": "a58c08e0",
   "metadata": {},
   "outputs": [
    {
     "name": "stdout",
     "output_type": "stream",
     "text": [
      "pdf gelesen\n"
     ]
    },
    {
     "data": {
      "text/html": [
       "<div>\n",
       "<style scoped>\n",
       "    .dataframe tbody tr th:only-of-type {\n",
       "        vertical-align: middle;\n",
       "    }\n",
       "\n",
       "    .dataframe tbody tr th {\n",
       "        vertical-align: top;\n",
       "    }\n",
       "\n",
       "    .dataframe thead th {\n",
       "        text-align: right;\n",
       "    }\n",
       "</style>\n",
       "<table border=\"1\" class=\"dataframe\">\n",
       "  <thead>\n",
       "    <tr style=\"text-align: right;\">\n",
       "      <th></th>\n",
       "      <th>Datum</th>\n",
       "      <th>RGSCode</th>\n",
       "      <th>RGSName</th>\n",
       "      <th>Geschlecht</th>\n",
       "      <th>Verweildauer</th>\n",
       "      <th>Altersgruppe</th>\n",
       "      <th>ABGANG</th>\n",
       "      <th>DS_VWD</th>\n",
       "      <th>Unnamed: 8</th>\n",
       "    </tr>\n",
       "  </thead>\n",
       "  <tbody>\n",
       "    <tr>\n",
       "      <th>0</th>\n",
       "      <td>2019-01-31</td>\n",
       "      <td>101</td>\n",
       "      <td>Eisenstadt</td>\n",
       "      <td>Frauen</td>\n",
       "      <td>0 bis 90 Tage</td>\n",
       "      <td>bis 19 Jahre</td>\n",
       "      <td>4</td>\n",
       "      <td>26</td>\n",
       "      <td>NaN</td>\n",
       "    </tr>\n",
       "    <tr>\n",
       "      <th>1</th>\n",
       "      <td>2019-01-31</td>\n",
       "      <td>101</td>\n",
       "      <td>Eisenstadt</td>\n",
       "      <td>Frauen</td>\n",
       "      <td>0 bis 90 Tage</td>\n",
       "      <td>20 bis 24 Jahre</td>\n",
       "      <td>12</td>\n",
       "      <td>39</td>\n",
       "      <td>NaN</td>\n",
       "    </tr>\n",
       "    <tr>\n",
       "      <th>2</th>\n",
       "      <td>2019-01-31</td>\n",
       "      <td>101</td>\n",
       "      <td>Eisenstadt</td>\n",
       "      <td>Frauen</td>\n",
       "      <td>0 bis 90 Tage</td>\n",
       "      <td>25 bis 29 Jahre</td>\n",
       "      <td>10</td>\n",
       "      <td>42</td>\n",
       "      <td>NaN</td>\n",
       "    </tr>\n",
       "    <tr>\n",
       "      <th>3</th>\n",
       "      <td>2019-01-31</td>\n",
       "      <td>101</td>\n",
       "      <td>Eisenstadt</td>\n",
       "      <td>Frauen</td>\n",
       "      <td>0 bis 90 Tage</td>\n",
       "      <td>30 bis 34 Jahre</td>\n",
       "      <td>16</td>\n",
       "      <td>39</td>\n",
       "      <td>NaN</td>\n",
       "    </tr>\n",
       "    <tr>\n",
       "      <th>4</th>\n",
       "      <td>2019-01-31</td>\n",
       "      <td>101</td>\n",
       "      <td>Eisenstadt</td>\n",
       "      <td>Frauen</td>\n",
       "      <td>0 bis 90 Tage</td>\n",
       "      <td>35 bis 39 Jahre</td>\n",
       "      <td>14</td>\n",
       "      <td>41</td>\n",
       "      <td>NaN</td>\n",
       "    </tr>\n",
       "  </tbody>\n",
       "</table>\n",
       "</div>"
      ],
      "text/plain": [
       "        Datum  RGSCode     RGSName Geschlecht   Verweildauer     Altersgruppe  \\\n",
       "0  2019-01-31      101  Eisenstadt     Frauen  0 bis 90 Tage     bis 19 Jahre   \n",
       "1  2019-01-31      101  Eisenstadt     Frauen  0 bis 90 Tage  20 bis 24 Jahre   \n",
       "2  2019-01-31      101  Eisenstadt     Frauen  0 bis 90 Tage  25 bis 29 Jahre   \n",
       "3  2019-01-31      101  Eisenstadt     Frauen  0 bis 90 Tage  30 bis 34 Jahre   \n",
       "4  2019-01-31      101  Eisenstadt     Frauen  0 bis 90 Tage  35 bis 39 Jahre   \n",
       "\n",
       "   ABGANG  DS_VWD  Unnamed: 8  \n",
       "0       4      26         NaN  \n",
       "1      12      39         NaN  \n",
       "2      10      42         NaN  \n",
       "3      16      39         NaN  \n",
       "4      14      41         NaN  "
      ]
     },
     "execution_count": 7,
     "metadata": {},
     "output_type": "execute_result"
    }
   ],
   "source": [
    "TEST_DF_URL = \"/home/amelie/k8s-ml-pipeline/sample_data/ams-data.csv\"\n",
    "csv_content = pd.read_csv(TEST_DF_URL, encoding = \"latin1\", sep=\";\" )\n",
    "print(f\"pdf gelesen\")\n",
    "csv_content.head(5)"
   ]
  },
  {
   "cell_type": "code",
   "execution_count": null,
   "id": "0de6e3f2",
   "metadata": {},
   "outputs": [],
   "source": []
  }
 ],
 "metadata": {
  "kernelspec": {
   "display_name": "Python 3",
   "language": "python",
   "name": "python3"
  },
  "language_info": {
   "codemirror_mode": {
    "name": "ipython",
    "version": 3
   },
   "file_extension": ".py",
   "mimetype": "text/x-python",
   "name": "python",
   "nbconvert_exporter": "python",
   "pygments_lexer": "ipython3",
   "version": "3.10.6"
  }
 },
 "nbformat": 4,
 "nbformat_minor": 5
}
